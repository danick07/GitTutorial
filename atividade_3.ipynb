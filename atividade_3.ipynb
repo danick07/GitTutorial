{
  "nbformat": 4,
  "nbformat_minor": 0,
  "metadata": {
    "colab": {
      "provenance": [],
      "authorship_tag": "ABX9TyMNmS5pAywxoVPOUcU5PNOm",
      "include_colab_link": true
    },
    "kernelspec": {
      "name": "python3",
      "display_name": "Python 3"
    },
    "language_info": {
      "name": "python"
    }
  },
  "cells": [
    {
      "cell_type": "markdown",
      "metadata": {
        "id": "view-in-github",
        "colab_type": "text"
      },
      "source": [
        "<a href=\"https://colab.research.google.com/github/danick07/GitTutorial/blob/master/atividade_3.ipynb\" target=\"_parent\"><img src=\"https://colab.research.google.com/assets/colab-badge.svg\" alt=\"Open In Colab\"/></a>"
      ]
    },
    {
      "cell_type": "code",
      "execution_count": null,
      "metadata": {
        "id": "tSCqkX4Evb4P"
      },
      "outputs": [],
      "source": [
        "# Criar um arquivo de texto\n",
        "\n",
        "open(\"arquivo.txt\", \"w\")"
      ]
    },
    {
      "cell_type": "code",
      "source": [
        "# Abrindo um arquivo no modo escrita (cria se não existir)\n",
        "\n",
        "with open(\"arquivo2.txt\", \"w\") as arquivo:\n",
        "  arquivo.write(\"Olá, isso é um teste de arquivo\\n\")"
      ],
      "metadata": {
        "id": "zcZkQAZ_vgpP"
      },
      "execution_count": null,
      "outputs": []
    },
    {
      "cell_type": "code",
      "source": [
        "with open(\"arquivo2.txt\", \"a\") as arquivo:\n",
        "  arquivo.write(\"Essa é uma nova linha adicionada!\")"
      ],
      "metadata": {
        "id": "dEgCm-LZvkiF"
      },
      "execution_count": null,
      "outputs": []
    },
    {
      "cell_type": "code",
      "source": [
        "with open(\"arquivo2.txt\", \"r\") as arquivo:\n",
        "  for linha in arquivo:\n",
        "    print(linha.strip())"
      ],
      "metadata": {
        "id": "7RydDJ0Mvrqt"
      },
      "execution_count": null,
      "outputs": []
    },
    {
      "cell_type": "code",
      "source": [
        "from google.colab import files\n",
        "uplaod = files.upload()"
      ],
      "metadata": {
        "id": "_TBcf14fvswF"
      },
      "execution_count": null,
      "outputs": []
    },
    {
      "cell_type": "code",
      "source": [
        "from google.colab import drive\n",
        "\n",
        "drive.mount(\"/content/drive\")\n",
        "\n",
        "caminho = \"/content/drive/MyDrive/arquivo.txt\"\n",
        "with open(caminho, \"w\") as f:\n",
        "  f.write(\"Teste de arquivo no Drive!\")\n",
        "\n",
        "with open(\"/content/drive/MyDrive/arquivo.txt\", \"r\") as f:\n",
        "  print(f.read())"
      ],
      "metadata": {
        "id": "ssFLfK6WvwYt"
      },
      "execution_count": null,
      "outputs": []
    },
    {
      "cell_type": "code",
      "source": [],
      "metadata": {
        "id": "5bSyn8sMvzc-"
      },
      "execution_count": null,
      "outputs": []
    }
  ]
}