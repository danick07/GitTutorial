{
  "nbformat": 4,
  "nbformat_minor": 0,
  "metadata": {
    "colab": {
      "provenance": [],
      "authorship_tag": "ABX9TyM9PhGYRIk2cPFevINZfVSO",
      "include_colab_link": true
    },
    "kernelspec": {
      "name": "python3",
      "display_name": "Python 3"
    },
    "language_info": {
      "name": "python"
    }
  },
  "cells": [
    {
      "cell_type": "markdown",
      "metadata": {
        "id": "view-in-github",
        "colab_type": "text"
      },
      "source": [
        "<a href=\"https://colab.research.google.com/github/danick07/GitTutorial/blob/master/Diario_de_um_aluno.ipynb\" target=\"_parent\"><img src=\"https://colab.research.google.com/assets/colab-badge.svg\" alt=\"Open In Colab\"/></a>"
      ]
    },
    {
      "cell_type": "code",
      "execution_count": null,
      "metadata": {
        "id": "LTZh2bIrxIoq"
      },
      "outputs": [],
      "source": [
        "import os\n",
        "from datetime import datetime\n",
        "\n",
        "def exibir_menu():\n",
        "    print(\"\\n Diário Eletrônico\")\n",
        "    print(\"1️ Escrever no diário\")\n",
        "    print(\"2Ler entradas do diário\")\n",
        "    print(\"3️ Sair\")\n",
        "\n",
        "def escrever_diario():\n",
        "    entrada = input(\"Digite sua anotação: \")\n",
        "    data_hora = datetime.now().strftime(\"%d/%m/%Y %H:%M:%S\")\n",
        "\n",
        "    with open(\"diario.txt\", \"a\", encoding=\"utf-8\") as arquivo:\n",
        "        arquivo.write(f\"[{data_hora}] {entrada}\\n\")\n",
        "\n",
        "    print(\"Entrada salva com sucesso!\")\n",
        "\n",
        "def ler_diario():\n",
        "    if not os.path.exists(\"diario.txt\"):\n",
        "        print(\"O diário está vazio. Escreva algo primeiro!\")\n",
        "        return\n",
        "\n",
        "    with open(\"diario.txt\", \"r\", encoding=\"utf-8\") as arquivo:\n",
        "        entradas = arquivo.readlines()\n",
        "\n",
        "    print(\"\\nSuas anotações:\\n\")\n",
        "    for entrada in entradas:\n",
        "        print(entrada.strip())\n",
        "\n",
        "while True:\n",
        "    exibir_menu()\n",
        "    escolha = input(\"> Escolha uma opção: \")\n",
        "\n",
        "    if escolha == \"1\":\n",
        "        escrever_diario()\n",
        "    elif escolha == \"2\":\n",
        "        ler_diario()\n",
        "    elif escolha == \"3\":\n",
        "        print(\"Saindo do diário. Até logo!\")\n",
        "        break\n",
        "    else:\n",
        "        print(\"Opção inválida. Tente novamente.\")"
      ]
    }
  ]
}